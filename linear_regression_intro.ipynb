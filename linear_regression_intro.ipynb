{
  "nbformat": 4,
  "nbformat_minor": 0,
  "metadata": {
    "colab": {
      "provenance": [],
      "authorship_tag": "ABX9TyPwjzhZ8MQupKdPLVFiTEuL",
      "include_colab_link": true
    },
    "kernelspec": {
      "name": "python3",
      "display_name": "Python 3"
    },
    "language_info": {
      "name": "python"
    }
  },
  "cells": [
    {
      "cell_type": "markdown",
      "metadata": {
        "id": "view-in-github",
        "colab_type": "text"
      },
      "source": [
        "<a href=\"https://colab.research.google.com/github/Eddythemachine/linear_regression_learning/blob/main/linear_regression_intro.ipynb\" target=\"_parent\"><img src=\"https://colab.research.google.com/assets/colab-badge.svg\" alt=\"Open In Colab\"/></a>"
      ]
    },
    {
      "cell_type": "markdown",
      "source": [
        "# IMPORTING LIBARIES"
      ],
      "metadata": {
        "id": "40-tqBDI6hLq"
      }
    },
    {
      "cell_type": "code",
      "execution_count": 72,
      "metadata": {
        "id": "Vxa38ZED5x94"
      },
      "outputs": [],
      "source": [
        "# prompt: import panda, numpy, matlotlib\n",
        "\n",
        "import pandas as pd\n",
        "import numpy as np\n",
        "import matplotlib.pyplot as plt\n",
        "\n",
        "\n",
        "# from helper import (plot_exponential_data,\n",
        "#                     plot_square_normal_data)\n",
        "\n",
        "# from helper import plot_exponential_data, plot_square_normal_data"
      ]
    },
    {
      "cell_type": "markdown",
      "source": [
        "# IMPORTING DATASET"
      ],
      "metadata": {
        "id": "SkZMog-e6oj2"
      }
    },
    {
      "cell_type": "code",
      "source": [
        "df = pd.read_csv(\"housing.csv\")\n",
        "df.head()"
      ],
      "metadata": {
        "id": "IDfXM4Xg6tuz",
        "colab": {
          "base_uri": "https://localhost:8080/",
          "height": 206
        },
        "outputId": "33c00ef5-6e83-4703-e085-36cae485dd39"
      },
      "execution_count": 73,
      "outputs": [
        {
          "output_type": "execute_result",
          "data": {
            "text/plain": [
              "   longitude  latitude  housing_median_age  total_rooms  total_bedrooms  \\\n",
              "0    -122.23     37.88                41.0        880.0           129.0   \n",
              "1    -122.22     37.86                21.0       7099.0          1106.0   \n",
              "2    -122.24     37.85                52.0       1467.0           190.0   \n",
              "3    -122.25     37.85                52.0       1274.0           235.0   \n",
              "4    -122.25     37.85                52.0       1627.0           280.0   \n",
              "\n",
              "   population  households  median_income  median_house_value ocean_proximity  \n",
              "0       322.0       126.0         8.3252            452600.0        NEAR BAY  \n",
              "1      2401.0      1138.0         8.3014            358500.0        NEAR BAY  \n",
              "2       496.0       177.0         7.2574            352100.0        NEAR BAY  \n",
              "3       558.0       219.0         5.6431            341300.0        NEAR BAY  \n",
              "4       565.0       259.0         3.8462            342200.0        NEAR BAY  "
            ],
            "text/html": [
              "\n",
              "  <div id=\"df-0caab2aa-2e45-4b16-83e9-760367fda5c2\" class=\"colab-df-container\">\n",
              "    <div>\n",
              "<style scoped>\n",
              "    .dataframe tbody tr th:only-of-type {\n",
              "        vertical-align: middle;\n",
              "    }\n",
              "\n",
              "    .dataframe tbody tr th {\n",
              "        vertical-align: top;\n",
              "    }\n",
              "\n",
              "    .dataframe thead th {\n",
              "        text-align: right;\n",
              "    }\n",
              "</style>\n",
              "<table border=\"1\" class=\"dataframe\">\n",
              "  <thead>\n",
              "    <tr style=\"text-align: right;\">\n",
              "      <th></th>\n",
              "      <th>longitude</th>\n",
              "      <th>latitude</th>\n",
              "      <th>housing_median_age</th>\n",
              "      <th>total_rooms</th>\n",
              "      <th>total_bedrooms</th>\n",
              "      <th>population</th>\n",
              "      <th>households</th>\n",
              "      <th>median_income</th>\n",
              "      <th>median_house_value</th>\n",
              "      <th>ocean_proximity</th>\n",
              "    </tr>\n",
              "  </thead>\n",
              "  <tbody>\n",
              "    <tr>\n",
              "      <th>0</th>\n",
              "      <td>-122.23</td>\n",
              "      <td>37.88</td>\n",
              "      <td>41.0</td>\n",
              "      <td>880.0</td>\n",
              "      <td>129.0</td>\n",
              "      <td>322.0</td>\n",
              "      <td>126.0</td>\n",
              "      <td>8.3252</td>\n",
              "      <td>452600.0</td>\n",
              "      <td>NEAR BAY</td>\n",
              "    </tr>\n",
              "    <tr>\n",
              "      <th>1</th>\n",
              "      <td>-122.22</td>\n",
              "      <td>37.86</td>\n",
              "      <td>21.0</td>\n",
              "      <td>7099.0</td>\n",
              "      <td>1106.0</td>\n",
              "      <td>2401.0</td>\n",
              "      <td>1138.0</td>\n",
              "      <td>8.3014</td>\n",
              "      <td>358500.0</td>\n",
              "      <td>NEAR BAY</td>\n",
              "    </tr>\n",
              "    <tr>\n",
              "      <th>2</th>\n",
              "      <td>-122.24</td>\n",
              "      <td>37.85</td>\n",
              "      <td>52.0</td>\n",
              "      <td>1467.0</td>\n",
              "      <td>190.0</td>\n",
              "      <td>496.0</td>\n",
              "      <td>177.0</td>\n",
              "      <td>7.2574</td>\n",
              "      <td>352100.0</td>\n",
              "      <td>NEAR BAY</td>\n",
              "    </tr>\n",
              "    <tr>\n",
              "      <th>3</th>\n",
              "      <td>-122.25</td>\n",
              "      <td>37.85</td>\n",
              "      <td>52.0</td>\n",
              "      <td>1274.0</td>\n",
              "      <td>235.0</td>\n",
              "      <td>558.0</td>\n",
              "      <td>219.0</td>\n",
              "      <td>5.6431</td>\n",
              "      <td>341300.0</td>\n",
              "      <td>NEAR BAY</td>\n",
              "    </tr>\n",
              "    <tr>\n",
              "      <th>4</th>\n",
              "      <td>-122.25</td>\n",
              "      <td>37.85</td>\n",
              "      <td>52.0</td>\n",
              "      <td>1627.0</td>\n",
              "      <td>280.0</td>\n",
              "      <td>565.0</td>\n",
              "      <td>259.0</td>\n",
              "      <td>3.8462</td>\n",
              "      <td>342200.0</td>\n",
              "      <td>NEAR BAY</td>\n",
              "    </tr>\n",
              "  </tbody>\n",
              "</table>\n",
              "</div>\n",
              "    <div class=\"colab-df-buttons\">\n",
              "\n",
              "  <div class=\"colab-df-container\">\n",
              "    <button class=\"colab-df-convert\" onclick=\"convertToInteractive('df-0caab2aa-2e45-4b16-83e9-760367fda5c2')\"\n",
              "            title=\"Convert this dataframe to an interactive table.\"\n",
              "            style=\"display:none;\">\n",
              "\n",
              "  <svg xmlns=\"http://www.w3.org/2000/svg\" height=\"24px\" viewBox=\"0 -960 960 960\">\n",
              "    <path d=\"M120-120v-720h720v720H120Zm60-500h600v-160H180v160Zm220 220h160v-160H400v160Zm0 220h160v-160H400v160ZM180-400h160v-160H180v160Zm440 0h160v-160H620v160ZM180-180h160v-160H180v160Zm440 0h160v-160H620v160Z\"/>\n",
              "  </svg>\n",
              "    </button>\n",
              "\n",
              "  <style>\n",
              "    .colab-df-container {\n",
              "      display:flex;\n",
              "      gap: 12px;\n",
              "    }\n",
              "\n",
              "    .colab-df-convert {\n",
              "      background-color: #E8F0FE;\n",
              "      border: none;\n",
              "      border-radius: 50%;\n",
              "      cursor: pointer;\n",
              "      display: none;\n",
              "      fill: #1967D2;\n",
              "      height: 32px;\n",
              "      padding: 0 0 0 0;\n",
              "      width: 32px;\n",
              "    }\n",
              "\n",
              "    .colab-df-convert:hover {\n",
              "      background-color: #E2EBFA;\n",
              "      box-shadow: 0px 1px 2px rgba(60, 64, 67, 0.3), 0px 1px 3px 1px rgba(60, 64, 67, 0.15);\n",
              "      fill: #174EA6;\n",
              "    }\n",
              "\n",
              "    .colab-df-buttons div {\n",
              "      margin-bottom: 4px;\n",
              "    }\n",
              "\n",
              "    [theme=dark] .colab-df-convert {\n",
              "      background-color: #3B4455;\n",
              "      fill: #D2E3FC;\n",
              "    }\n",
              "\n",
              "    [theme=dark] .colab-df-convert:hover {\n",
              "      background-color: #434B5C;\n",
              "      box-shadow: 0px 1px 3px 1px rgba(0, 0, 0, 0.15);\n",
              "      filter: drop-shadow(0px 1px 2px rgba(0, 0, 0, 0.3));\n",
              "      fill: #FFFFFF;\n",
              "    }\n",
              "  </style>\n",
              "\n",
              "    <script>\n",
              "      const buttonEl =\n",
              "        document.querySelector('#df-0caab2aa-2e45-4b16-83e9-760367fda5c2 button.colab-df-convert');\n",
              "      buttonEl.style.display =\n",
              "        google.colab.kernel.accessAllowed ? 'block' : 'none';\n",
              "\n",
              "      async function convertToInteractive(key) {\n",
              "        const element = document.querySelector('#df-0caab2aa-2e45-4b16-83e9-760367fda5c2');\n",
              "        const dataTable =\n",
              "          await google.colab.kernel.invokeFunction('convertToInteractive',\n",
              "                                                    [key], {});\n",
              "        if (!dataTable) return;\n",
              "\n",
              "        const docLinkHtml = 'Like what you see? Visit the ' +\n",
              "          '<a target=\"_blank\" href=https://colab.research.google.com/notebooks/data_table.ipynb>data table notebook</a>'\n",
              "          + ' to learn more about interactive tables.';\n",
              "        element.innerHTML = '';\n",
              "        dataTable['output_type'] = 'display_data';\n",
              "        await google.colab.output.renderOutput(dataTable, element);\n",
              "        const docLink = document.createElement('div');\n",
              "        docLink.innerHTML = docLinkHtml;\n",
              "        element.appendChild(docLink);\n",
              "      }\n",
              "    </script>\n",
              "  </div>\n",
              "\n",
              "\n",
              "<div id=\"df-2484c652-0333-4416-ae8a-4de8cbcac469\">\n",
              "  <button class=\"colab-df-quickchart\" onclick=\"quickchart('df-2484c652-0333-4416-ae8a-4de8cbcac469')\"\n",
              "            title=\"Suggest charts\"\n",
              "            style=\"display:none;\">\n",
              "\n",
              "<svg xmlns=\"http://www.w3.org/2000/svg\" height=\"24px\"viewBox=\"0 0 24 24\"\n",
              "     width=\"24px\">\n",
              "    <g>\n",
              "        <path d=\"M19 3H5c-1.1 0-2 .9-2 2v14c0 1.1.9 2 2 2h14c1.1 0 2-.9 2-2V5c0-1.1-.9-2-2-2zM9 17H7v-7h2v7zm4 0h-2V7h2v10zm4 0h-2v-4h2v4z\"/>\n",
              "    </g>\n",
              "</svg>\n",
              "  </button>\n",
              "\n",
              "<style>\n",
              "  .colab-df-quickchart {\n",
              "      --bg-color: #E8F0FE;\n",
              "      --fill-color: #1967D2;\n",
              "      --hover-bg-color: #E2EBFA;\n",
              "      --hover-fill-color: #174EA6;\n",
              "      --disabled-fill-color: #AAA;\n",
              "      --disabled-bg-color: #DDD;\n",
              "  }\n",
              "\n",
              "  [theme=dark] .colab-df-quickchart {\n",
              "      --bg-color: #3B4455;\n",
              "      --fill-color: #D2E3FC;\n",
              "      --hover-bg-color: #434B5C;\n",
              "      --hover-fill-color: #FFFFFF;\n",
              "      --disabled-bg-color: #3B4455;\n",
              "      --disabled-fill-color: #666;\n",
              "  }\n",
              "\n",
              "  .colab-df-quickchart {\n",
              "    background-color: var(--bg-color);\n",
              "    border: none;\n",
              "    border-radius: 50%;\n",
              "    cursor: pointer;\n",
              "    display: none;\n",
              "    fill: var(--fill-color);\n",
              "    height: 32px;\n",
              "    padding: 0;\n",
              "    width: 32px;\n",
              "  }\n",
              "\n",
              "  .colab-df-quickchart:hover {\n",
              "    background-color: var(--hover-bg-color);\n",
              "    box-shadow: 0 1px 2px rgba(60, 64, 67, 0.3), 0 1px 3px 1px rgba(60, 64, 67, 0.15);\n",
              "    fill: var(--button-hover-fill-color);\n",
              "  }\n",
              "\n",
              "  .colab-df-quickchart-complete:disabled,\n",
              "  .colab-df-quickchart-complete:disabled:hover {\n",
              "    background-color: var(--disabled-bg-color);\n",
              "    fill: var(--disabled-fill-color);\n",
              "    box-shadow: none;\n",
              "  }\n",
              "\n",
              "  .colab-df-spinner {\n",
              "    border: 2px solid var(--fill-color);\n",
              "    border-color: transparent;\n",
              "    border-bottom-color: var(--fill-color);\n",
              "    animation:\n",
              "      spin 1s steps(1) infinite;\n",
              "  }\n",
              "\n",
              "  @keyframes spin {\n",
              "    0% {\n",
              "      border-color: transparent;\n",
              "      border-bottom-color: var(--fill-color);\n",
              "      border-left-color: var(--fill-color);\n",
              "    }\n",
              "    20% {\n",
              "      border-color: transparent;\n",
              "      border-left-color: var(--fill-color);\n",
              "      border-top-color: var(--fill-color);\n",
              "    }\n",
              "    30% {\n",
              "      border-color: transparent;\n",
              "      border-left-color: var(--fill-color);\n",
              "      border-top-color: var(--fill-color);\n",
              "      border-right-color: var(--fill-color);\n",
              "    }\n",
              "    40% {\n",
              "      border-color: transparent;\n",
              "      border-right-color: var(--fill-color);\n",
              "      border-top-color: var(--fill-color);\n",
              "    }\n",
              "    60% {\n",
              "      border-color: transparent;\n",
              "      border-right-color: var(--fill-color);\n",
              "    }\n",
              "    80% {\n",
              "      border-color: transparent;\n",
              "      border-right-color: var(--fill-color);\n",
              "      border-bottom-color: var(--fill-color);\n",
              "    }\n",
              "    90% {\n",
              "      border-color: transparent;\n",
              "      border-bottom-color: var(--fill-color);\n",
              "    }\n",
              "  }\n",
              "</style>\n",
              "\n",
              "  <script>\n",
              "    async function quickchart(key) {\n",
              "      const quickchartButtonEl =\n",
              "        document.querySelector('#' + key + ' button');\n",
              "      quickchartButtonEl.disabled = true;  // To prevent multiple clicks.\n",
              "      quickchartButtonEl.classList.add('colab-df-spinner');\n",
              "      try {\n",
              "        const charts = await google.colab.kernel.invokeFunction(\n",
              "            'suggestCharts', [key], {});\n",
              "      } catch (error) {\n",
              "        console.error('Error during call to suggestCharts:', error);\n",
              "      }\n",
              "      quickchartButtonEl.classList.remove('colab-df-spinner');\n",
              "      quickchartButtonEl.classList.add('colab-df-quickchart-complete');\n",
              "    }\n",
              "    (() => {\n",
              "      let quickchartButtonEl =\n",
              "        document.querySelector('#df-2484c652-0333-4416-ae8a-4de8cbcac469 button');\n",
              "      quickchartButtonEl.style.display =\n",
              "        google.colab.kernel.accessAllowed ? 'block' : 'none';\n",
              "    })();\n",
              "  </script>\n",
              "</div>\n",
              "\n",
              "    </div>\n",
              "  </div>\n"
            ],
            "application/vnd.google.colaboratory.intrinsic+json": {
              "type": "dataframe",
              "variable_name": "df",
              "summary": "{\n  \"name\": \"df\",\n  \"rows\": 20640,\n  \"fields\": [\n    {\n      \"column\": \"longitude\",\n      \"properties\": {\n        \"dtype\": \"number\",\n        \"std\": 2.003531723502581,\n        \"min\": -124.35,\n        \"max\": -114.31,\n        \"num_unique_values\": 844,\n        \"samples\": [\n          -118.63,\n          -119.86,\n          -121.26\n        ],\n        \"semantic_type\": \"\",\n        \"description\": \"\"\n      }\n    },\n    {\n      \"column\": \"latitude\",\n      \"properties\": {\n        \"dtype\": \"number\",\n        \"std\": 2.1359523974571117,\n        \"min\": 32.54,\n        \"max\": 41.95,\n        \"num_unique_values\": 862,\n        \"samples\": [\n          33.7,\n          34.41,\n          38.24\n        ],\n        \"semantic_type\": \"\",\n        \"description\": \"\"\n      }\n    },\n    {\n      \"column\": \"housing_median_age\",\n      \"properties\": {\n        \"dtype\": \"number\",\n        \"std\": 12.585557612111637,\n        \"min\": 1.0,\n        \"max\": 52.0,\n        \"num_unique_values\": 52,\n        \"samples\": [\n          35.0,\n          25.0,\n          7.0\n        ],\n        \"semantic_type\": \"\",\n        \"description\": \"\"\n      }\n    },\n    {\n      \"column\": \"total_rooms\",\n      \"properties\": {\n        \"dtype\": \"number\",\n        \"std\": 2181.615251582787,\n        \"min\": 2.0,\n        \"max\": 39320.0,\n        \"num_unique_values\": 5926,\n        \"samples\": [\n          699.0,\n          1544.0,\n          3966.0\n        ],\n        \"semantic_type\": \"\",\n        \"description\": \"\"\n      }\n    },\n    {\n      \"column\": \"total_bedrooms\",\n      \"properties\": {\n        \"dtype\": \"number\",\n        \"std\": 421.3850700740322,\n        \"min\": 1.0,\n        \"max\": 6445.0,\n        \"num_unique_values\": 1923,\n        \"samples\": [\n          1538.0,\n          1298.0,\n          1578.0\n        ],\n        \"semantic_type\": \"\",\n        \"description\": \"\"\n      }\n    },\n    {\n      \"column\": \"population\",\n      \"properties\": {\n        \"dtype\": \"number\",\n        \"std\": 1132.4621217653375,\n        \"min\": 3.0,\n        \"max\": 35682.0,\n        \"num_unique_values\": 3888,\n        \"samples\": [\n          4169.0,\n          636.0,\n          3367.0\n        ],\n        \"semantic_type\": \"\",\n        \"description\": \"\"\n      }\n    },\n    {\n      \"column\": \"households\",\n      \"properties\": {\n        \"dtype\": \"number\",\n        \"std\": 382.3297528316099,\n        \"min\": 1.0,\n        \"max\": 6082.0,\n        \"num_unique_values\": 1815,\n        \"samples\": [\n          21.0,\n          750.0,\n          1447.0\n        ],\n        \"semantic_type\": \"\",\n        \"description\": \"\"\n      }\n    },\n    {\n      \"column\": \"median_income\",\n      \"properties\": {\n        \"dtype\": \"number\",\n        \"std\": 1.8998217179452732,\n        \"min\": 0.4999,\n        \"max\": 15.0001,\n        \"num_unique_values\": 12928,\n        \"samples\": [\n          5.0286,\n          2.0433,\n          6.1228\n        ],\n        \"semantic_type\": \"\",\n        \"description\": \"\"\n      }\n    },\n    {\n      \"column\": \"median_house_value\",\n      \"properties\": {\n        \"dtype\": \"number\",\n        \"std\": 115395.6158744132,\n        \"min\": 14999.0,\n        \"max\": 500001.0,\n        \"num_unique_values\": 3842,\n        \"samples\": [\n          194300.0,\n          379000.0,\n          230100.0\n        ],\n        \"semantic_type\": \"\",\n        \"description\": \"\"\n      }\n    },\n    {\n      \"column\": \"ocean_proximity\",\n      \"properties\": {\n        \"dtype\": \"category\",\n        \"num_unique_values\": 5,\n        \"samples\": [\n          \"<1H OCEAN\",\n          \"ISLAND\",\n          \"INLAND\"\n        ],\n        \"semantic_type\": \"\",\n        \"description\": \"\"\n      }\n    }\n  ]\n}"
            }
          },
          "metadata": {},
          "execution_count": 73
        }
      ]
    },
    {
      "cell_type": "code",
      "source": [
        "df.shape"
      ],
      "metadata": {
        "colab": {
          "base_uri": "https://localhost:8080/"
        },
        "id": "R0YldKIdKnHq",
        "outputId": "4a62eec9-e3ca-4488-d2b4-33fd6357dfe1"
      },
      "execution_count": 74,
      "outputs": [
        {
          "output_type": "execute_result",
          "data": {
            "text/plain": [
              "(20640, 10)"
            ]
          },
          "metadata": {},
          "execution_count": 74
        }
      ]
    },
    {
      "cell_type": "markdown",
      "source": [
        "For convenience"
      ],
      "metadata": {
        "id": "gibft_xFKCC7"
      }
    },
    {
      "cell_type": "code",
      "source": [
        "#Done for inconvenience\n",
        "\n",
        "df = df.rename(columns={\"median_house_value\": \"target\"})\n"
      ],
      "metadata": {
        "id": "cOKxr_MZJu2w"
      },
      "execution_count": 75,
      "outputs": []
    },
    {
      "cell_type": "markdown",
      "source": [
        "# Checking for missing values"
      ],
      "metadata": {
        "id": "B3YJWw2JKFH1"
      }
    },
    {
      "cell_type": "code",
      "source": [
        "missing_values_sum = df.isnull().sum()\n",
        "print(f\"The total number of missing values in the DataFrame is: {missing_values_sum}\")\n"
      ],
      "metadata": {
        "colab": {
          "base_uri": "https://localhost:8080/"
        },
        "id": "39c6ytk3KICF",
        "outputId": "199300b7-f40a-4e4d-d2a6-6b3bfe615cdc"
      },
      "execution_count": 76,
      "outputs": [
        {
          "output_type": "stream",
          "name": "stdout",
          "text": [
            "The total number of missing values in the DataFrame is: longitude               0\n",
            "latitude                0\n",
            "housing_median_age      0\n",
            "total_rooms             0\n",
            "total_bedrooms        207\n",
            "population              0\n",
            "households              0\n",
            "median_income           0\n",
            "target                  0\n",
            "ocean_proximity         0\n",
            "dtype: int64\n"
          ]
        }
      ]
    },
    {
      "cell_type": "markdown",
      "source": [
        "# Dropping Missing Values"
      ],
      "metadata": {
        "id": "OXFHD1fjKrG5"
      }
    },
    {
      "cell_type": "code",
      "source": [
        "# prompt: drop null values from df\n",
        "\n",
        "df.dropna(inplace=True)\n"
      ],
      "metadata": {
        "id": "bf0GI9nYCjRB"
      },
      "execution_count": 77,
      "outputs": []
    },
    {
      "cell_type": "code",
      "source": [
        "df.shape"
      ],
      "metadata": {
        "colab": {
          "base_uri": "https://localhost:8080/"
        },
        "id": "pl18BY9UCpG3",
        "outputId": "29d2bc03-d97f-467d-87a0-d35ef259f4cd"
      },
      "execution_count": 78,
      "outputs": [
        {
          "output_type": "execute_result",
          "data": {
            "text/plain": [
              "(20433, 10)"
            ]
          },
          "metadata": {},
          "execution_count": 78
        }
      ]
    },
    {
      "cell_type": "markdown",
      "source": [
        "# Determing Normality\n",
        "\n",
        "# Why Normalize Target Values in Machine Learning\n",
        "\n",
        "Normalizing the **target variable** (also called the dependent variable) is an important preprocessing step in certain machine learning tasks, particularly regression. This process involves transforming the target values to a **common scale**—typically using standardization (z-score), min-max scaling, or logarithmic transformations.\n",
        "\n",
        "---\n",
        "\n",
        "## 🔍 Why Normalize the Target Variable?\n",
        "\n",
        "1. **Improved Model Performance**\n",
        "   - Models may perform better when the target variable is on a similar scale to the features.\n",
        "   - Large-scale values can cause numerical instability or slower convergence during training.\n",
        "\n",
        "2. **Faster Training Convergence**\n",
        "   - Algorithms like gradient descent converge more quickly when both input features and target values are scaled similarly.\n",
        "\n",
        "3. **Reduced Sensitivity to Outliers**\n",
        "   - Log transformations or Box-Cox normalization reduce skewness and the influence of outliers.\n",
        "\n",
        "4. **Interpretability and Stability**\n",
        "   - Helps in making the residuals more normally distributed, which supports assumptions in linear regression and improves statistical inference.\n",
        "\n",
        "---\n",
        "\n",
        "## 🤖 Machine Learning Algorithms That Benefit from Target Normalization\n",
        "\n",
        "### ✅ **Linear Regression (OLS)**\n",
        "- Assumes a linear relationship between features and a **normally distributed target**.\n",
        "- Normalizing the target helps meet the assumptions for valid p-values and confidence intervals.\n",
        "\n",
        "### ✅ **Support Vector Regression (SVR)**\n",
        "- Sensitive to the scale of both features and the target.\n",
        "- Performance and kernel behavior improve with normalization.\n",
        "\n",
        "### ✅ **Neural Networks**\n",
        "- Large target values can result in unstable gradients during training.\n",
        "- Normalizing the target allows for smoother learning and faster convergence.\n",
        "\n",
        "### ✅ **K-Nearest Neighbors (KNN) for Regression**\n",
        "- While more sensitive to feature scaling, normalization of the target can still reduce prediction bias when values vary widely.\n",
        "\n",
        "### ✅ **Gradient Boosting & XGBoost (Optional)**\n",
        "- These models don't *require* normalized targets, but normalization can help **if the target is highly skewed**.\n",
        "\n",
        "---\n",
        "\n",
        "## ⚠️ When Not to Normalize the Target\n",
        "\n",
        "- **Classification Tasks**: The target is categorical; normalization is not applicable.\n",
        "- **Tree-Based Regression Models**: Algorithms like **Decision Trees** or **Random Forests** are **invariant to scaling**. Target normalization isn’t usually needed unless interpretability or skewness correction is desired.\n",
        "\n",
        "---\n",
        "\n",
        "## 🛠️ Common Normalization Methods\n",
        "\n",
        "- **Standardization (Z-score)**:  \n",
        "  \\[\n",
        "  z = \\frac{y - \\mu}{\\sigma}\n",
        "  \\]\n",
        "\n",
        "- **Min-Max Scaling**:  \n",
        "  \\[\n",
        "  y_{scaled} = \\frac{y - y_{\\min}}{y_{\\max} - y_{\\min}}\n",
        "  \\]\n",
        "\n",
        "- **Log Transformation**:  \n",
        "  \\[\n",
        "  y' = \\log(y + 1)\n",
        "  \\]  \n",
        "  (Used when the target is right-skewed)\n",
        "\n",
        "---\n",
        "\n",
        "## ✅ Tip: Remember to Invert Transformations\n",
        "If you normalize the target during training, always **apply the inverse transformation** to predictions before interpreting or submitting results.\n",
        "\n",
        "---\n",
        "\n",
        "By normalizing your target values when appropriate, you can make your models more stable, interpretable, and performant—especially when dealing with skewed distributions or sensitive algorithms.\n",
        "\n",
        "\n",
        "\n",
        "\n"
      ],
      "metadata": {
        "id": "DanJUTXLEDTP"
      }
    },
    {
      "cell_type": "code",
      "source": [
        "df.target.hist()"
      ],
      "metadata": {
        "id": "1p6fCCI_A9d-",
        "colab": {
          "base_uri": "https://localhost:8080/",
          "height": 447
        },
        "outputId": "762363ea-da50-44dc-d92d-019122efe7b4"
      },
      "execution_count": 79,
      "outputs": [
        {
          "output_type": "execute_result",
          "data": {
            "text/plain": [
              "<Axes: >"
            ]
          },
          "metadata": {},
          "execution_count": 79
        },
        {
          "output_type": "display_data",
          "data": {
            "text/plain": [
              "<Figure size 640x480 with 1 Axes>"
            ],
            "image/png": "[encoded data removed]"
          },
          "metadata": {}
        }
      ]
    },
    {
      "cell_type": "code",
      "source": [
        "# prompt: test df.taarget for normal ditribution using scipy\n",
        "\n",
        "from scipy.stats.mstats import normaltest\n",
        "\n",
        "statistic, pvalue =  normaltest(df.target.values)\n",
        "print(f\"pvalue: {pvalue:.5f}\")"
      ],
      "metadata": {
        "colab": {
          "base_uri": "https://localhost:8080/"
        },
        "id": "GW9H5lDMGYNv",
        "outputId": "c5ca227a-01de-4a0e-8d13-35721a2d4b90"
      },
      "execution_count": 82,
      "outputs": [
        {
          "output_type": "stream",
          "name": "stdout",
          "text": [
            "pvalue: 0.00000\n"
          ]
        }
      ]
    },
    {
      "cell_type": "markdown",
      "source": [
        "# Normality Test for Target Variable in California Housing Data\n",
        "\n",
        "In this analysis, we apply **D'Agostino's K-squared test** to assess whether the **target variable (median house value)** in the **California Housing dataset** is normally distributed. The test evaluates skewness and kurtosis to determine how much the distribution deviates from a normal distribution.\n",
        "\n",
        "---\n",
        "\n",
        "## **D'Agostino's K-squared Test Overview**\n",
        "\n",
        "- **Purpose**:  \n",
        "  To test if the target variable (median house value) in the California Housing data follows a normal distribution.\n",
        "\n",
        "- **Methodology**:\n",
        "  - Calculates a **K-squared statistic** by combining sample **skewness** and **kurtosis**.\n",
        "  - Evaluates how the distribution of the target deviates from normality.\n",
        "\n",
        "- **Interpretation**:\n",
        "  - A higher K-squared value indicates a larger deviation from a normal distribution.\n",
        "  - The test returns a **p-value** to support hypothesis testing.\n",
        "\n",
        "---\n",
        "\n",
        "## **Hypothesis Testing**\n",
        "\n",
        "- **Null Hypothesis (H₀)**:  \n",
        "  The target variable is normally distributed.\n",
        "\n",
        "- **Alternative Hypothesis (Hₐ)**:  \n",
        "  The target variable is not normally distributed.\n",
        "\n",
        "- **Significance Level**:  \n",
        "  Although a common threshold is 0.05, here we consider a **p-value threshold of 0.1** to assess normality more conservatively.\n",
        "\n",
        "- **Decision Rule**:\n",
        "  - If **p-value ≥ 0.1**: Fail to reject H₀ → The target may be normally distributed.\n",
        "  - If **p-value < 0.1**: Reject H₀ → The target is likely not normally distributed.\n",
        "\n",
        "---\n",
        "\n",
        "## **Steps in Analysis**\n",
        "\n",
        "1. **Load the California Housing Data**  \n",
        "   Extract the target variable (e.g., `median_house_value` or similar, depending on source).\n",
        "\n",
        "2. **Compute Skewness and Kurtosis**  \n",
        "   Use statistical functions to calculate the skewness and kurtosis of the target values.\n",
        "\n",
        "3. **Apply D'Agostino's K-squared Test**  \n",
        "   Use `scipy.stats.normaltest()` to compute the K-squared statistic and p-value.\n",
        "\n",
        "4. **Interpret the Result**  \n",
        "   Based on the p-value, conclude whether the distribution of house values approximates a normal distribution.\n",
        "\n",
        "---\n",
        "\n",
        "## **Results Interpretation**\n",
        "\n",
        "- **p-value ≥ 0.1**:  \n",
        "  **Conclusion**: Fail to reject H₀; the distribution of median house values may be normal.\n",
        "\n",
        "- **p-value < 0.1**:  \n",
        "  **Conclusion**: Reject H₀; the distribution of median house values is likely not normal.\n",
        "\n",
        "---\n",
        "\n",
        "This test provides valuable insight into whether parametric methods assuming normality are appropriate for modeling or preprocessing the target variable in the California Housing dataset.\n"
      ],
      "metadata": {
        "id": "pl_DqlWt_q7y"
      }
    },
    {
      "cell_type": "markdown",
      "source": [
        "Testing log"
      ],
      "metadata": {
        "id": "i3erRfEPKFR4"
      }
    },
    {
      "cell_type": "code",
      "source": [
        "# Log transformation with a small constant to avoid log(0)\n",
        "df['target_log'] = np.log(df['target'] + 1e-6)  # Adding a small constant\n",
        "\n",
        "# Check normality after log transformation\n",
        "statistic, pvalue = normaltest(df['target_log'].values)\n",
        "print(f\"pvalue after log transformation: {pvalue:.5f}\")\n",
        "\n",
        "# Plotting histogram to visualize the distribution after the log transformation\n",
        "df['target_log'].hist()\n",
        "plt.show()\n",
        "print(pvalue)"
      ],
      "metadata": {
        "colab": {
          "base_uri": "https://localhost:8080/",
          "height": 469
        },
        "id": "Mdx2i8r2HE1W",
        "outputId": "b637309b-13e9-4ce8-bdd9-589a906e5f1a"
      },
      "execution_count": 83,
      "outputs": [
        {
          "output_type": "stream",
          "name": "stdout",
          "text": [
            "pvalue after log transformation: 0.00000\n"
          ]
        },
        {
          "output_type": "display_data",
          "data": {
            "text/plain": [
              "<Figure size 640x480 with 1 Axes>"
            ],
            "image/png": "[encoded data removed]"
          },
          "metadata": {}
        },
        {
          "output_type": "stream",
          "name": "stdout",
          "text": [
            "9.128234297148759e-78\n"
          ]
        }
      ]
    },
    {
      "cell_type": "code",
      "source": [
        "df[\"square_tag\"] = np.sqrt(df.target_log)\n",
        "df[\"square_tag\"].hist()\n",
        "normaltest(df[\"square_tag\"])"
      ],
      "metadata": {
        "colab": {
          "base_uri": "https://localhost:8080/",
          "height": 447
        },
        "id": "hMxSrxoFPMCy",
        "outputId": "30c940ac-025f-4214-cf72-b88a25e8383d"
      },
      "execution_count": 84,
      "outputs": [
        {
          "output_type": "execute_result",
          "data": {
            "text/plain": [
              "NormaltestResult(statistic=np.float64(352.47979434655724), pvalue=np.float64(2.8839329992294048e-77))"
            ]
          },
          "metadata": {},
          "execution_count": 84
        },
        {
          "output_type": "display_data",
          "data": {
            "text/plain": [
              "<Figure size 640x480 with 1 Axes>"
            ],
            "image/png": "[encoded data removed]"
          },
          "metadata": {}
        }
      ]
    },
    {
      "cell_type": "markdown",
      "source": [
        "Boxcut"
      ],
      "metadata": {
        "id": "VBkvXcDNPyq5"
      }
    },
    {
      "cell_type": "code",
      "source": [
        "# Log transformation with a small constant to avoid log(0)\n",
        "df['target_log'] = np.log(df['target'] + 1e-6)  # Adding a small constant\n",
        "\n",
        "# Check normality after log transformation\n",
        "statistic, pvalue = normaltest(df['target_log'].values)\n",
        "print(f\"pvalue after log transformation: {pvalue:.5f}\")\n",
        "\n",
        "# Plotting histogram to visualize the distribution after the log transformation\n",
        "df['target_log'].hist()\n",
        "plt.show()\n",
        "print(pvalue)"
      ],
      "metadata": {
        "colab": {
          "base_uri": "https://localhost:8080/",
          "height": 469
        },
        "id": "ZREdPUxgP2Rc",
        "outputId": "1e23d647-3384-45d5-c9f4-d255aaf7017b"
      },
      "execution_count": 86,
      "outputs": [
        {
          "output_type": "stream",
          "name": "stdout",
          "text": [
            "pvalue after log transformation: 0.00000\n"
          ]
        },
        {
          "output_type": "display_data",
          "data": {
            "text/plain": [
              "<Figure size 640x480 with 1 Axes>"
            ],
            "image/png": "[encoded data removed]"
          },
          "metadata": {}
        },
        {
          "output_type": "stream",
          "name": "stdout",
          "text": [
            "9.128234297148759e-78\n"
          ]
        }
      ]
    },
    {
      "cell_type": "markdown",
      "source": [
        "### **Hypotheses:**\n",
        "\n",
        "- **Null Hypothesis (H₀):**  \n",
        "  The data is drawn from a normal distribution.\n",
        "\n",
        "- **Alternative Hypothesis (Hₐ):**  \n",
        "  The data is not drawn from a normal distribution.\n",
        "\n",
        "\n",
        "\n",
        "## Test Result\n",
        "\n",
        "- **K-squared statistic**: *(computed by the test)*\n",
        "- **p-value**: **9.12 × 10⁻⁷⁸**\n",
        "\n",
        "\n",
        "\n",
        "## Interpretation\n",
        "\n",
        "- Since the **p-value = 9.2 × 10⁻⁷⁸** is **much smaller** than the typical significance threshold (0.05 or even 0.01), we **reject the null hypothesis**.\n",
        "\n",
        "# Target Variable Normality Assessment\n",
        "\n",
        "After applying several transformations, including **log**, **Box-Cox**, and removing outliers, the target variable (median house value) in the **California Housing dataset** **still fails to reach normality**. The p-value from D'Agostino's K-squared test remains significantly low (p-value < 0.05), indicating that the data does not follow a normal distribution.\n",
        "\n",
        "\n",
        "\n",
        "## Why Normality is Not Achieved\n",
        "\n",
        "Despite efforts to transform the data, it is clear that the target variable exhibits **non-normal characteristics** such as **skewness**, **outliers**, or potentially a **multi-modal distribution**. These traits are common in real-world datasets, particularly in cases of economic or geographic data, and may not always be fixable through standard transformations.\n",
        "\n",
        "For most modern machine learning models, **normality of the target variable** is **not a strict requirement**. Instead, these models focus on predictive power rather than statistical inference, meaning the **non-normality** of the target variable doesn't necessarily hinder model performance.\n",
        "\n",
        "\n",
        "\n",
        "## Alternative Regression Models to Use\n",
        "\n",
        "Since the target variable does not conform to a normal distribution, we recommend using regression models that are **robust to non-normal distributions** or **do not require normality assumptions**:\n",
        "\n",
        "### 1. **Random Forest Regressor**\n",
        "### 2. **Gradient Boosting Machines (GBM)**\n",
        "### 3. **Support Vector Machines (SVM) for Regression**\n",
        "### 4. **Huber Regressor**\n",
        "### 5. **K-Nearest Neighbors (KNN) Regression**\n",
        "### 6. **RANSAC (Random Sample Consensus) Regressor**\n",
        "\n",
        "## Conclusion\n",
        "\n",
        "Although the target variable does not follow a normal distribution, this does not hinder the predictive capability of machine learning models. By using robust models such as **Random Forest**, **Gradient Boosting**, or **Huber Regressor**, we can proceed with building accurate regression models that do not rely on the normality assumption.\n",
        "\n",
        "It is important to recognize that **model performance** should be the primary focus, and non-normality is a **common characteristic** in real-world data that doesn't necessarily impede prediction accuracy.\n"
      ],
      "metadata": {
        "id": "uPyLKTIQFUMr"
      }
    },
    {
      "cell_type": "code",
      "source": [],
      "metadata": {
        "id": "huUnVP0fMkHr"
      },
      "execution_count": null,
      "outputs": []
    }
  ]
}